{
 "cells": [
  {
   "cell_type": "code",
   "execution_count": null,
   "metadata": {},
   "outputs": [],
   "source": [
    "def ghj(x):\n",
    "    s=0\n",
    "    for i in range(len(x)):\n",
    "        s=s+x[i]\n",
    "    sr=s/len(x)\n",
    "    return(sr)"
   ]
  },
  {
   "cell_type": "code",
   "execution_count": null,
   "metadata": {},
   "outputs": [],
   "source": [
    "def group(x):\n",
    "    # вернуть словарь, где ключ это число, а значение - список позиций, на которых оно встречается\n",
    "    dct = {}\n",
    "    for i in range (len(x)):\n",
    "        if x[i] in dct:\n",
    "            dct[x[i]].append(i)\n",
    "        else: \n",
    "            dct[x[i]] = []\n",
    "    return dct"
   ]
  },
  {
   "cell_type": "code",
   "execution_count": null,
   "metadata": {},
   "outputs": [],
   "source": [
    "def cosine_similarity(a, b):\n",
    "    #принимает два np.array вектора, возвращает косинус угла между ними\n",
    "    import numpy as np\n",
    "    lengthA = np.linalg.norm(a)\n",
    "    lengthB = np.linalg.norm(b)\n",
    "    cos = (a@b)/(lengthA*lengthB)\n",
    "    print(cos)"
   ]
  },
  {
   "cell_type": "code",
   "execution_count": null,
   "metadata": {},
   "outputs": [],
   "source": [
    "def map_to_clusters(objects, clustering):\n",
    "    K = []\n",
    "    H = []\n",
    "    for i in range (len(objects)):\n",
    "        H.append(objects[i])\n",
    "        return H\n",
    "    #принимает objects - список каких-то объектов, любых\n",
    "    #и clustering - список целых чисел от 0 до некоторого небольшого n, len(objects) == len(clustering)\n",
    "    #нужно вернуть n списков, где i-ый список - такие objects[j], что clustering[j] == i"
   ]
  }
 ],
 "metadata": {
  "kernelspec": {
   "display_name": "Python 3",
   "language": "python",
   "name": "python3"
  },
  "language_info": {
   "name": "python",
   "version": "3.12.1"
  }
 },
 "nbformat": 4,
 "nbformat_minor": 2
}
