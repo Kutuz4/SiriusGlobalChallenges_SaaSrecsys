{
 "cells": [
  {
   "cell_type": "code",
   "execution_count": null,
   "metadata": {},
   "outputs": [],
   "source": [
    "def ghj(x):\n",
    "    s=0\n",
    "    for i in range(len(x)):\n",
    "        s=s+x[i]\n",
    "    sr=s/len(x)\n",
    "    return(sr)"
   ]
  },
  {
   "cell_type": "code",
   "execution_count": null,
   "metadata": {},
   "outputs": [],
   "source": [
    "def group(x):\n",
    "    # вернуть словарь, где ключ это число, а значение - список позиций, на которых оно встречается\n",
    "    dct = {}\n",
    "    for i in range (len(x)):\n",
    "        if x[i] in dct:\n",
    "            dct[x[i]].append(i)\n",
    "        else: \n",
    "            dct[x[i]] = []\n",
    "    return dct "
   ]
  },
  {
   "cell_type": "code",
   "execution_count": null,
   "metadata": {},
   "outputs": [],
   "source": [
    "import numpy as np\n",
    "\n",
    "def cosine_similarity(a, b):\n",
    "    #принимает два np.array вектора, возвращает косинус угла между ними\n",
    "    lengthA = np.linalg.norm(a)\n",
    "    lengthB = np.linalg.norm(b)\n",
    "    cos = (a@b)/(lengthA*lengthB)\n",
    "    print(cos)"
   ]
  },
  {
   "cell_type": "code",
   "execution_count": 57,
   "metadata": {},
   "outputs": [],
   "source": [
    "def map_to_clusters(objects, clustering):\n",
    "    H = []\n",
    "    sch = max(clustering)\n",
    "    for i in range (sch+1):\n",
    "        H.append([])\n",
    "    for i in range (len(objects)):\n",
    "        #добавляем objects[i] в H[j], если clustering[i] == j\n",
    "        H[clustering[i]].append(objects[i])\n",
    "    return H\n",
    "    #принимает objects - список каких-то объектов, любых\n",
    "    #и clustering - список целых чисел от 0 до некоторого небольшого n, len(objects) == len(clustering)\n",
    "    #нужно вернуть n списков, где i-ый список - такие objects[j], что clustering[j] == i"
   ]
  }
 ],
 "metadata": {
  "kernelspec": {
   "display_name": "Python 3",
   "language": "python",
   "name": "python3"
  },
  "language_info": {
   "codemirror_mode": {
    "name": "ipython",
    "version": 3
   },
   "file_extension": ".py",
   "mimetype": "text/x-python",
   "name": "python",
   "nbconvert_exporter": "python",
   "pygments_lexer": "ipython3",
   "version": "3.12.1"
  }
 },
 "nbformat": 4,
 "nbformat_minor": 2
}
